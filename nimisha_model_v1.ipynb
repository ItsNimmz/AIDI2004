{
 "cells": [
  {
   "cell_type": "code",
   "execution_count": 10,
   "metadata": {},
   "outputs": [],
   "source": [
    "pip install ucimlrepo"
   ]
  },
  {
   "cell_type": "code",
   "execution_count": 11,
   "metadata": {},
   "outputs": [],
   "source": [
    "import pandas as pd\n",
    "from sklearn.model_selection import train_test_split\n",
    "from sklearn.preprocessing import StandardScaler\n",
    "from sklearn.linear_model import LogisticRegression\n"
   ]
  },
  {
   "cell_type": "markdown",
   "metadata": {},
   "source": [
    "Model\n"
   ]
  },
  {
   "cell_type": "code",
   "execution_count": 16,
   "metadata": {},
   "outputs": [
    {
     "name": "stdout",
     "output_type": "stream",
     "text": [
      "radius1               0\n",
      "texture1              0\n",
      "perimeter1            0\n",
      "area1                 0\n",
      "smoothness1           0\n",
      "compactness1          0\n",
      "concavity1            0\n",
      "concave_points1       0\n",
      "symmetry1             0\n",
      "fractal_dimension1    0\n",
      "radius2               0\n",
      "texture2              0\n",
      "perimeter2            0\n",
      "area2                 0\n",
      "smoothness2           0\n",
      "compactness2          0\n",
      "concavity2            0\n",
      "concave_points2       0\n",
      "symmetry2             0\n",
      "fractal_dimension2    0\n",
      "radius3               0\n",
      "texture3              0\n",
      "perimeter3            0\n",
      "area3                 0\n",
      "smoothness3           0\n",
      "compactness3          0\n",
      "concavity3            0\n",
      "concave_points3       0\n",
      "symmetry3             0\n",
      "fractal_dimension3    0\n",
      "dtype: int64\n",
      "Logistic Regression Accuracy: 0.9532163742690059\n"
     ]
    },
    {
     "name": "stderr",
     "output_type": "stream",
     "text": [
      "c:\\Users\\nimis\\AppData\\Local\\Programs\\Python\\Python312\\Lib\\site-packages\\sklearn\\utils\\validation.py:1300: DataConversionWarning: A column-vector y was passed when a 1d array was expected. Please change the shape of y to (n_samples, ), for example using ravel().\n",
      "  y = column_or_1d(y, warn=True)\n"
     ]
    }
   ],
   "source": [
    "# Get data\n",
    "dataset = fetch_ucirepo(id=17) \n",
    "\n",
    "\n"
   ]
  }
 ],
 "metadata": {
  "kernelspec": {
   "display_name": "Python 3",
   "language": "python",
   "name": "python3"
  },
  "language_info": {
   "codemirror_mode": {
    "name": "ipython",
    "version": 3
   },
   "file_extension": ".py",
   "mimetype": "text/x-python",
   "name": "python",
   "nbconvert_exporter": "python",
   "pygments_lexer": "ipython3",
   "version": "3.12.1"
  }
 },
 "nbformat": 4,
 "nbformat_minor": 2
}
